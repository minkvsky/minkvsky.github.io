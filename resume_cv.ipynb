{
 "cells": [
  {
   "cell_type": "markdown",
   "metadata": {
    "toc": true
   },
   "source": [
    "<h1>Table of Contents<span class=\"tocSkip\"></span></h1>\n",
    "<div class=\"toc\" style=\"margin-top: 1em;\"><ul class=\"toc-item\"><li><span><a href=\"#联系方式\" data-toc-modified-id=\"联系方式-1\"><span class=\"toc-item-num\">1&nbsp;&nbsp;</span>联系方式</a></span></li><li><span><a href=\"#个人信息\" data-toc-modified-id=\"个人信息-2\"><span class=\"toc-item-num\">2&nbsp;&nbsp;</span>个人信息</a></span></li><li><span><a href=\"#工作经历\" data-toc-modified-id=\"工作经历-3\"><span class=\"toc-item-num\">3&nbsp;&nbsp;</span>工作经历</a></span><ul class=\"toc-item\"><li><span><a href=\"#马上消费金融-数据分析工程师（201611~201712）\" data-toc-modified-id=\"马上消费金融-数据分析工程师（201611~201712）-3.1\"><span class=\"toc-item-num\">3.1&nbsp;&nbsp;</span>马上消费金融-数据分析工程师（201611~201712）</a></span></li><li><span><a href=\"#网舟联合科技-（-201602-~-201609-）\" data-toc-modified-id=\"网舟联合科技-（-201602-~-201609-）-3.2\"><span class=\"toc-item-num\">3.2&nbsp;&nbsp;</span>网舟联合科技 （ 201602 ~ 201609 ）</a></span></li><li><span><a href=\"#文新教育集团-（-201509-~-201512）\" data-toc-modified-id=\"文新教育集团-（-201509-~-201512）-3.3\"><span class=\"toc-item-num\">3.3&nbsp;&nbsp;</span>文新教育集团 （ 201509 ~ 201512）</a></span><ul class=\"toc-item\"><li><span><a href=\"#数学教师：高中，初中数学\" data-toc-modified-id=\"数学教师：高中，初中数学-3.3.1\"><span class=\"toc-item-num\">3.3.1&nbsp;&nbsp;</span>数学教师：高中，初中数学</a></span></li></ul></li></ul></li><li><span><a href=\"#优达学城项目\" data-toc-modified-id=\"优达学城项目-4\"><span class=\"toc-item-num\">4&nbsp;&nbsp;</span>优达学城项目</a></span><ul class=\"toc-item\"><li><span><a href=\"#Uacity-无人车工程师纳米学位（201712~）\" data-toc-modified-id=\"Uacity-无人车工程师纳米学位（201712~）-4.1\"><span class=\"toc-item-num\">4.1&nbsp;&nbsp;</span>Uacity 无人车工程师纳米学位（201712~）</a></span><ul class=\"toc-item\"><li><span><a href=\"#Behavioral-Cloning\" data-toc-modified-id=\"Behavioral-Cloning-4.1.1\"><span class=\"toc-item-num\">4.1.1&nbsp;&nbsp;</span>Behavioral Cloning</a></span></li><li><span><a href=\"#Vehicle-Detection-and-Tracking\" data-toc-modified-id=\"Vehicle-Detection-and-Tracking-4.1.2\"><span class=\"toc-item-num\">4.1.2&nbsp;&nbsp;</span>Vehicle Detection and Tracking</a></span></li></ul></li><li><span><a href=\"#Udacity-人工智能工程师纳米学位(201704~201709)\" data-toc-modified-id=\"Udacity-人工智能工程师纳米学位(201704~201709)-4.2\"><span class=\"toc-item-num\">4.2&nbsp;&nbsp;</span>Udacity 人工智能工程师纳米学位(201704~201709)</a></span><ul class=\"toc-item\"><li><span><a href=\"#Implement-a-Planning-Search\" data-toc-modified-id=\"Implement-a-Planning-Search-4.2.1\"><span class=\"toc-item-num\">4.2.1&nbsp;&nbsp;</span>Implement a Planning Search</a></span></li><li><span><a href=\"#Build-a-Game-playing-Agent\" data-toc-modified-id=\"Build-a-Game-playing-Agent-4.2.2\"><span class=\"toc-item-num\">4.2.2&nbsp;&nbsp;</span>Build a Game-playing Agent</a></span></li></ul></li><li><span><a href=\"#Udacity-机器学习算法工程师纳米学位(201609~201610)\" data-toc-modified-id=\"Udacity-机器学习算法工程师纳米学位(201609~201610)-4.3\"><span class=\"toc-item-num\">4.3&nbsp;&nbsp;</span>Udacity 机器学习算法工程师纳米学位(201609~201610)</a></span><ul class=\"toc-item\"><li><span><a href=\"#训练智能出租车学会驾驶(smartcab)\" data-toc-modified-id=\"训练智能出租车学会驾驶(smartcab)-4.3.1\"><span class=\"toc-item-num\">4.3.1&nbsp;&nbsp;</span>训练智能出租车学会驾驶(smartcab)</a></span></li></ul></li></ul></li><li><span><a href=\"#技能清单\" data-toc-modified-id=\"技能清单-5\"><span class=\"toc-item-num\">5&nbsp;&nbsp;</span>技能清单</a></span></li><li><span><a href=\"#致谢\" data-toc-modified-id=\"致谢-6\"><span class=\"toc-item-num\">6&nbsp;&nbsp;</span>致谢</a></span></li></ul></div>"
   ]
  },
  {
   "cell_type": "markdown",
   "metadata": {},
   "source": [
    "# 联系方式"
   ]
  },
  {
   "cell_type": "markdown",
   "metadata": {},
   "source": [
    "- 手机：+86 18800184057\n",
    "- Email：chuanglongwei@163.com\n",
    "- QQ: 787040851\n",
    "- 微信：vegeta-sun\n",
    "\n",
    "---"
   ]
  },
  {
   "cell_type": "markdown",
   "metadata": {},
   "source": [
    "# 个人信息"
   ]
  },
  {
   "cell_type": "markdown",
   "metadata": {},
   "source": [
    " - 孙宝龙/男/1989\n",
    " - 硕士/中科院大学/数学与系统科学研究院（201209-201507）\n",
    " - 本科/杭州电子科技大学（200709-201107）\n",
    " - Gitlab：https://gitlab.com/minkvsky\n",
    " - Github：https://github.com/minkvsky\n",
    " - 期望职位 ：算法相关\n",
    " - 现居：北京市昌平区\n",
    "\n",
    "---"
   ]
  },
  {
   "cell_type": "markdown",
   "metadata": {},
   "source": [
    "# 工作经历"
   ]
  },
  {
   "cell_type": "markdown",
   "metadata": {},
   "source": [
    "## 马上消费金融-数据分析工程师（201611~201712）\n",
    "\n",
    "-  数据分析工程师\n",
    "-  主导信用审批环节系统重构\n",
    "-  参与各种产品的分析，参与审批监控系统维护与更新\n",
    "-  线上审批系统更新与维护\n",
    "-  跟进新产品，新数据源等\n",
    "-  设计组内协调方案，推动git工作流\n",
    "-  绩效拿过A\n",
    "\n",
    "## 网舟联合科技 （ 201602 ~ 201609 ）\n",
    "\n",
    "- 数据分析师\n",
    "- 中国电信手机客户端数据分析项目\n",
    "- 此项目中我负责常规数据报告制作，数据支撑以及专题分析。\n",
    "- 使用python制作了系统地提取（月报，周报）数据程序，提高数据支撑与报告制作效率，并在同事中推广方法。\n",
    "- 进行数据可视化，批量生成ppt，从而找到用户软件推广渠道中的劣质渠道\n",
    "- 参与了数据分析指标体系设计。\n",
    "- 为同事做了机器学习（随机森林）的内训报告。\n",
    "\n",
    "## 文新教育集团 （ 201509 ~ 201512）\n",
    "\n",
    "### 数学教师：高中，初中数学\n",
    "- 一对一授课，辅导；尤其重视学生的学习方法的改进\n",
    "\n",
    "---"
   ]
  },
  {
   "cell_type": "markdown",
   "metadata": {},
   "source": [
    "# 优达学城项目"
   ]
  },
  {
   "cell_type": "markdown",
   "metadata": {},
   "source": [
    "## Uacity 无人车工程师纳米学位（201712~）"
   ]
  },
  {
   "cell_type": "markdown",
   "metadata": {},
   "source": [
    "### Behavioral Cloning"
   ]
  },
  {
   "cell_type": "markdown",
   "metadata": {},
   "source": [
    "https://gitlab.com/CARND-PROJECTS/CarND-Behavioral-Cloning-P3"
   ]
  },
  {
   "cell_type": "markdown",
   "metadata": {},
   "source": [
    "- goals：在模拟器上自动驾驶\n",
    "- Build a cnn in Keras that predicts steering angles from images\n",
    "- 数据增强：random fliplr， random shear， random gamma correction\n",
    "- keywords: cnn, generator"
   ]
  },
  {
   "cell_type": "markdown",
   "metadata": {},
   "source": [
    "### Vehicle Detection and Tracking"
   ]
  },
  {
   "cell_type": "markdown",
   "metadata": {},
   "source": [
    "https://gitlab.com/CARND-PROJECTS/CarND-Vehicle-Detection"
   ]
  },
  {
   "cell_type": "markdown",
   "metadata": {},
   "source": [
    "- goals: 在给定视频中检测车辆和车道线\n",
    "- 车道线检测\n",
    "    - camera calibration and distort the images\n",
    "    - Use color transforms, gradients, etc., to create a thresholded binary image.\n",
    "    - Apply a perspective transform to rectify binary image (\"birds-eye view\").\n",
    "    - Detect lane pixels and fit to find the lane boundary.\n",
    "    - Determine the curvature of the lane and vehicle position with respect to center.\n",
    "- 车辆检测\n",
    "    - 利用HOG feature ，color histogram feature, binned color feature训练车辆分类模型\n",
    "    - 利用muti-scale windows 搜索\n",
    "    - 利用热图以及行驶记录过滤错误检测"
   ]
  },
  {
   "cell_type": "markdown",
   "metadata": {},
   "source": [
    "## Udacity 人工智能工程师纳米学位(201704~201709)"
   ]
  },
  {
   "cell_type": "markdown",
   "metadata": {},
   "source": [
    "https://gitlab.com/AIND-PROJECTS"
   ]
  },
  {
   "cell_type": "markdown",
   "metadata": {},
   "source": [
    "### Implement a Planning Search"
   ]
  },
  {
   "cell_type": "markdown",
   "metadata": {},
   "source": [
    "https://github.com/minkvsky/AIND-Planning\n",
    "- 货运路线规划\n",
    "- goals: define a group of problems in classical PDDL (Planning Domain Definition Language) for the air cargo domain\n",
    "- steps: experiment with various automatically generated heuristics"
   ]
  },
  {
   "cell_type": "markdown",
   "metadata": {},
   "source": [
    "### Build a Game-playing Agent\n",
    "https://github.com/minkvsky/AIND-Isolation"
   ]
  },
  {
   "cell_type": "markdown",
   "metadata": {},
   "source": [
    "- goal:develop an adversarial search agent to play the game \"Isolation\"\n",
    "- steps:\n",
    "    - game class which contains cover, rules and so on.\n",
    "    - game agent with different algorithm.\n",
    "- algorithm: mix-min, alpha-beta"
   ]
  },
  {
   "cell_type": "markdown",
   "metadata": {},
   "source": [
    "## Udacity 机器学习算法工程师纳米学位(201609~201610)"
   ]
  },
  {
   "cell_type": "markdown",
   "metadata": {},
   "source": [
    "https://gitlab.com/MLND-PROJECTS"
   ]
  },
  {
   "cell_type": "markdown",
   "metadata": {},
   "source": [
    "### 训练智能出租车学会驾驶(smartcab)\n",
    "- https://gitlab.com/MLND-PROJECTS/smartcab\n",
    "- 使用 Q-learning强化学习算法，训练人工智能小车，使其能够适应环境同时完成任务。"
   ]
  },
  {
   "cell_type": "markdown",
   "metadata": {},
   "source": [
    "# 技能清单\n",
    "我熟悉以下技能：\n",
    "- python, R\n",
    "- MySQL, impala\n",
    "- Anaconda:jupyter notebook,pandas,numpy,sklearn\n",
    "- python-ppt:可以用于生成ppt数据报告\n",
    "- docker：主要用于自己的数据科学环境搭建\n",
    "- keras, tensorflow\n",
    "\n",
    "\n",
    "---\n",
    "\n",
    "# 致谢\n",
    "感谢您花时间阅读我的简历，期待能有机会和您共事。"
   ]
  }
 ],
 "metadata": {
  "kernelspec": {
   "display_name": "aind-dog",
   "language": "python",
   "name": "aind-dog"
  },
  "language_info": {
   "codemirror_mode": {
    "name": "ipython",
    "version": 3
   },
   "file_extension": ".py",
   "mimetype": "text/x-python",
   "name": "python",
   "nbconvert_exporter": "python",
   "pygments_lexer": "ipython3",
   "version": "3.5.3"
  },
  "toc": {
   "nav_menu": {},
   "number_sections": true,
   "sideBar": true,
   "skip_h1_title": false,
   "toc_cell": true,
   "toc_position": {
    "height": "505px",
    "left": "0px",
    "right": "980.554px",
    "top": "106px",
    "width": "328px"
   },
   "toc_section_display": "block",
   "toc_window_display": true
  }
 },
 "nbformat": 4,
 "nbformat_minor": 2
}
